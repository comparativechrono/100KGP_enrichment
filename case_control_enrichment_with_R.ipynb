{
  "nbformat": 4,
  "nbformat_minor": 0,
  "metadata": {
    "colab": {
      "provenance": [],
      "authorship_tag": "ABX9TyO9IqUCTARBJCF4+sHgCrx+",
      "include_colab_link": true
    },
    "kernelspec": {
      "name": "ir",
      "display_name": "R"
    },
    "language_info": {
      "name": "R"
    }
  },
  "cells": [
    {
      "cell_type": "markdown",
      "metadata": {
        "id": "view-in-github",
        "colab_type": "text"
      },
      "source": [
        "<a href=\"https://colab.research.google.com/github/comparativechrono/100KGP_enrichment/blob/main/case_control_enrichment_with_R.ipynb\" target=\"_parent\"><img src=\"https://colab.research.google.com/assets/colab-badge.svg\" alt=\"Open In Colab\"/></a>"
      ]
    },
    {
      "cell_type": "code",
      "source": [
        "library(dplyr)\n",
        "library(purrr)\n",
        "\n",
        "parse_vcf_info <- function(file_path) {\n",
        "  vcf_data <- read.table(file_path, header = FALSE, stringsAsFactors = FALSE)\n",
        "  names(vcf_data) <- c(\"Sample\", \"Chrom\", \"Pos\", \"ID\", \"Ref\", \"Alt\", \"Qual\", \"Filter\", \"GT\", \"GQ\", \"DP\")\n",
        "\n",
        "  # Split GT field to count alleles\n",
        "  vcf_data$AlleleCount <- sapply(strsplit(vcf_data$GT, \"/\"), function(gt) sum(as.numeric(gt)))\n",
        "\n",
        "  return(vcf_data)\n",
        "}\n",
        "\n",
        "cases <- parse_vcf_info(\"cases.txt\")\n",
        "controls <- parse_vcf_info(\"control.txt\")\n",
        "\n",
        "# Aggregate the allele counts by variant ID for both cases and controls:\n",
        "\n",
        "cases_freq <- cases %>% group_by(ID) %>% summarise(AlleleFreq = sum(AlleleCount))\n",
        "controls_freq <- controls %>% group_by(ID) %>% summarise(AlleleFreq = sum(AlleleCount))\n",
        "\n",
        "# Convert columns to numeric to avoid potential issues\n",
        "combined_freq <- combined_freq %>%\n",
        "  mutate(AlleleFreq_cases = as.numeric(AlleleFreq_cases),\n",
        "         AlleleFreq_controls = as.numeric(AlleleFreq_controls))\n",
        "\n",
        "# Use map to iterate over each row and create matrices\n",
        "combined_freq <- combined_freq %>%\n",
        "  mutate(matrix = map2(AlleleFreq_cases, AlleleFreq_controls, ~matrix(c(.x, total_cases_alleles - .x,\n",
        "                                                                       .y, total_controls_alleles - .y),\n",
        "                                                                      nrow = 2, byrow = TRUE)))\n",
        "\n",
        "# Perform Fisher's Exact Test\n",
        "combined_freq <- combined_freq %>%\n",
        "  mutate(fisher = map(matrix, ~fisher.test(.x)))\n",
        "\n",
        "# Extract p-values and odds ratios\n",
        "results <- combined_freq %>%\n",
        "  transmute(ID = ID,\n",
        "            p.value = map_dbl(fisher, ~.x$p.value),\n",
        "            odds_ratio = map_dbl(fisher, ~.x$estimate[[\"odds ratio\"]], .default = NA))\n",
        "\n",
        "# Write to CSV\n",
        "write.csv(results, \"3A_fishers_results.csv\", row.names = FALSE)"
      ],
      "metadata": {
        "id": "xqvfRWthkVke"
      },
      "execution_count": 13,
      "outputs": []
    }
  ]
}