{
  "nbformat": 4,
  "nbformat_minor": 0,
  "metadata": {
    "colab": {
      "provenance": [],
      "authorship_tag": "ABX9TyOoOV8cHC75hl7k9QECXmow",
      "include_colab_link": true
    },
    "kernelspec": {
      "name": "python3",
      "display_name": "Python 3"
    },
    "language_info": {
      "name": "python"
    }
  },
  "cells": [
    {
      "cell_type": "markdown",
      "metadata": {
        "id": "view-in-github",
        "colab_type": "text"
      },
      "source": [
        "<a href=\"https://colab.research.google.com/github/comparativechrono/100KGP_enrichment/blob/main/case_control_enrichment_with_python.ipynb\" target=\"_parent\"><img src=\"https://colab.research.google.com/assets/colab-badge.svg\" alt=\"Open In Colab\"/></a>"
      ]
    },
    {
      "cell_type": "code",
      "execution_count": 1,
      "metadata": {
        "colab": {
          "base_uri": "https://localhost:8080/"
        },
        "id": "noM3KuaYmitj",
        "outputId": "8eabb29c-e4d3-48a9-ad65-d287eb1cf5a2"
      },
      "outputs": [
        {
          "output_type": "stream",
          "name": "stdout",
          "text": [
            "Results written to 3A_fishers_results_python.csv\n"
          ]
        }
      ],
      "source": [
        "import pandas as pd\n",
        "import numpy as np\n",
        "from scipy.stats import fisher_exact\n",
        "from pathlib import Path\n",
        "\n",
        "def parse_vcf_info(file_path):\n",
        "    col_names = [\"Sample\", \"Chrom\", \"Pos\", \"ID\", \"Ref\", \"Alt\", \"Qual\", \"Filter\", \"GT\", \"GQ\", \"DP\"]\n",
        "    vcf_data = pd.read_csv(file_path, sep='\\t', header=None, names=col_names)\n",
        "\n",
        "    # Split GT field to count alleles\n",
        "    vcf_data['AlleleCount'] = vcf_data['GT'].apply(lambda gt: sum(int(allele) for allele in gt.split(\"/\")))\n",
        "\n",
        "    return vcf_data\n",
        "\n",
        "def calculate_allele_frequencies(vcf_data):\n",
        "    # Group by ID and sum AlleleCount for frequencies\n",
        "    allele_freq = vcf_data.groupby('ID')['AlleleCount'].sum().reset_index()\n",
        "    return allele_freq\n",
        "\n",
        "# Load cases and controls\n",
        "cases_file = \"cases.txt\"\n",
        "controls_file = \"control.txt\"\n",
        "\n",
        "cases = parse_vcf_info(cases_file)\n",
        "controls = parse_vcf_info(controls_file)\n",
        "\n",
        "cases_freq = calculate_allele_frequencies(cases)\n",
        "controls_freq = calculate_allele_frequencies(controls)\n",
        "\n",
        "# Combine case and control frequencies\n",
        "combined_freq = pd.merge(cases_freq, controls_freq, on='ID', suffixes=('_cases', '_controls'))\n",
        "\n",
        "# Assuming total number of alleles analysed\n",
        "total_cases_alleles = 80 * 2  # Each case can contribute 2 alleles max\n",
        "total_controls_alleles = 230 * 2\n",
        "\n",
        "# Prepare data for Fisher's Exact Test\n",
        "results = []\n",
        "for _, row in combined_freq.iterrows():\n",
        "    # Construct 2x2 table: [case_present, case_absent], [control_present, control_absent]\n",
        "    table = np.array([\n",
        "        [row['AlleleCount_cases'], total_cases_alleles - row['AlleleCount_cases']],\n",
        "        [row['AlleleCount_controls'], total_controls_alleles - row['AlleleCount_controls']]\n",
        "    ])\n",
        "    # Perform Fisher's Exact Test\n",
        "    odds_ratio, p_value = fisher_exact(table, alternative='two-sided')\n",
        "    results.append({'ID': row['ID'], 'p_value': p_value, 'odds_ratio': odds_ratio})\n",
        "\n",
        "results_df = pd.DataFrame(results)\n",
        "\n",
        "# Write results to CSV\n",
        "output_file = \"3A_fishers_results_python.csv\"\n",
        "results_df.to_csv(output_file, index=False)\n",
        "\n",
        "print(f\"Results written to {output_file}\")\n"
      ]
    }
  ]
}