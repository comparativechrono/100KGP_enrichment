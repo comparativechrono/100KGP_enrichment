{
  "nbformat": 4,
  "nbformat_minor": 0,
  "metadata": {
    "colab": {
      "provenance": [],
      "authorship_tag": "ABX9TyPyro5fQD53wiNf7mUp3FAg",
      "include_colab_link": true
    },
    "kernelspec": {
      "name": "python3",
      "display_name": "Python 3"
    },
    "language_info": {
      "name": "python"
    }
  },
  "cells": [
    {
      "cell_type": "markdown",
      "metadata": {
        "id": "view-in-github",
        "colab_type": "text"
      },
      "source": [
        "<a href=\"https://colab.research.google.com/github/comparativechrono/100KGP_enrichment/blob/main/PRS/case_control_PRS_Python.ipynb\" target=\"_parent\"><img src=\"https://colab.research.google.com/assets/colab-badge.svg\" alt=\"Open In Colab\"/></a>"
      ]
    },
    {
      "cell_type": "code",
      "execution_count": 2,
      "metadata": {
        "colab": {
          "base_uri": "https://localhost:8080/"
        },
        "id": "Ga1AqUqm7NAu",
        "outputId": "d1896783-bf3c-497e-84a4-e5f33ac63233"
      },
      "outputs": [
        {
          "output_type": "stream",
          "name": "stdout",
          "text": [
            "Cases PRS Mean and SD: {'mean': 2.9, 'sd': 1.4730919862656235}\n",
            "Controls PRS Mean and SD: {'mean': 1.52, 'sd': 0.6058052492344385}\n"
          ]
        }
      ],
      "source": [
        "import pandas as pd\n",
        "\n",
        "# Load the weights file\n",
        "variant_weights = pd.read_csv(\"variant_weights.txt\", sep=\"\\t\", header=None, names=[\"ID\", \"Weight\"])\n",
        "\n",
        "# Calculate Individual PRS\n",
        "\n",
        "def parse_vcf_info_with_prs(file_path, weights):\n",
        "    # Read the VCF-like file\n",
        "    vcf_data = pd.read_csv(file_path, sep=\"\\t\", header=None, names=[\"Sample\", \"Chrom\", \"Pos\", \"ID\", \"Ref\", \"Alt\", \"Qual\", \"Filter\", \"GT\", \"GQ\", \"DP\"])\n",
        "\n",
        "    # Split GT field and count alleles\n",
        "    vcf_data['AlleleCount'] = vcf_data['GT'].apply(lambda gt: sum(int(allele) for allele in gt.split(\"/\")))\n",
        "\n",
        "    # Join with weights to calculate PRS\n",
        "    vcf_data = pd.merge(vcf_data, weights, on=\"ID\")\n",
        "    vcf_data['PRS'] = vcf_data['AlleleCount'] * vcf_data['Weight']\n",
        "\n",
        "    return vcf_data\n",
        "\n",
        "# Calculate PRS for cases and controls\n",
        "cases_with_prs = parse_vcf_info_with_prs(\"cases.txt\", variant_weights)\n",
        "controls_with_prs = parse_vcf_info_with_prs(\"control.txt\", variant_weights)\n",
        "\n",
        "# Aggregate PRS and Calculate Mean and Standard Deviation\n",
        "\n",
        "def aggregate_prs(data):\n",
        "    return data.groupby(\"Sample\")['PRS'].sum().reset_index()\n",
        "\n",
        "cases_prs_summary = aggregate_prs(cases_with_prs)\n",
        "controls_prs_summary = aggregate_prs(controls_with_prs)\n",
        "\n",
        "# Write aggregated PRS to CSV\n",
        "cases_prs_summary.to_csv(\"cases_prs_summary.csv\", index=False)\n",
        "controls_prs_summary.to_csv(\"controls_prs_summary.csv\", index=False)\n",
        "\n",
        "# Calculate mean and standard deviation for cases and controls\n",
        "cases_stats = {'mean': cases_prs_summary['PRS'].mean(), 'sd': cases_prs_summary['PRS'].std()}\n",
        "controls_stats = {'mean': controls_prs_summary['PRS'].mean(), 'sd': controls_prs_summary['PRS'].std()}\n",
        "\n",
        "print(\"Cases PRS Mean and SD:\", cases_stats)\n",
        "print(\"Controls PRS Mean and SD:\", controls_stats)\n",
        "\n",
        "# Prepare summary statistics for output\n",
        "summary_stats_df = pd.DataFrame({\n",
        "    \"Group\": [\"Cases\", \"Controls\"],\n",
        "    \"Mean_PRS\": [cases_stats['mean'], controls_stats['mean']],\n",
        "    \"SD_PRS\": [cases_stats['sd'], controls_stats['sd']]\n",
        "})\n",
        "\n",
        "# Write summary statistics to CSV\n",
        "summary_stats_df.to_csv(\"summary_statistics_prs.csv\", index=False)\n"
      ]
    },
    {
      "cell_type": "code",
      "source": [],
      "metadata": {
        "id": "nY9bxA9T7Syy"
      },
      "execution_count": null,
      "outputs": []
    }
  ]
}