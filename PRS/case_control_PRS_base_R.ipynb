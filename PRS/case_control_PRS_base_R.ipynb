{
  "nbformat": 4,
  "nbformat_minor": 0,
  "metadata": {
    "colab": {
      "provenance": [],
      "authorship_tag": "ABX9TyM26AC0KOGM6rmSOCxyw8if",
      "include_colab_link": true
    },
    "kernelspec": {
      "name": "ir",
      "display_name": "R"
    },
    "language_info": {
      "name": "R"
    }
  },
  "cells": [
    {
      "cell_type": "markdown",
      "metadata": {
        "id": "view-in-github",
        "colab_type": "text"
      },
      "source": [
        "<a href=\"https://colab.research.google.com/github/comparativechrono/100KGP_enrichment/blob/main/PRS/case_control_PRS_base_R.ipynb\" target=\"_parent\"><img src=\"https://colab.research.google.com/assets/colab-badge.svg\" alt=\"Open In Colab\"/></a>"
      ]
    },
    {
      "cell_type": "code",
      "execution_count": 2,
      "metadata": {
        "colab": {
          "base_uri": "https://localhost:8080/"
        },
        "id": "mfAUGJHM5bzU",
        "outputId": "2e6ae2ce-36ff-43fe-9da5-81b9fe7ffe78"
      },
      "outputs": [
        {
          "output_type": "stream",
          "name": "stdout",
          "text": [
            "Cases PRS Mean and SD: 2.9 1.473092 \n",
            "Controls PRS Mean and SD: 1.52 0.6058052 \n"
          ]
        }
      ],
      "source": [
        "# Load the Weights File without predefined headers and assign column names manually\n",
        "variant_weights <- read.table(\"variant_weights.txt\", header = FALSE, stringsAsFactors = FALSE)\n",
        "colnames(variant_weights) <- c(\"ID\", \"Weight\")\n",
        "\n",
        "# Calculate Individual PRS\n",
        "parse_vcf_info_with_prs <- function(file_path, weights) {\n",
        "  vcf_data <- read.table(file_path, header = FALSE, stringsAsFactors = FALSE)\n",
        "  colnames(vcf_data) <- c(\"Sample\", \"Chrom\", \"Pos\", \"ID\", \"Ref\", \"Alt\", \"Qual\", \"Filter\", \"GT\", \"GQ\", \"DP\")\n",
        "\n",
        "  # Split GT field to count alleles\n",
        "  vcf_data$AlleleCount <- sapply(strsplit(as.character(vcf_data$GT), \"/\"), function(gt) sum(as.numeric(gt)))\n",
        "\n",
        "  # Join with weights to calculate PRS\n",
        "  merged_data <- merge(vcf_data, weights, by = \"ID\")\n",
        "  merged_data$PRS <- merged_data$AlleleCount * merged_data$Weight\n",
        "\n",
        "  return(merged_data)\n",
        "}\n",
        "\n",
        "# Calculate PRS for cases and controls\n",
        "cases_with_prs <- parse_vcf_info_with_prs(\"cases.txt\", variant_weights)\n",
        "controls_with_prs <- parse_vcf_info_with_prs(\"control.txt\", variant_weights)\n",
        "\n",
        "# Aggregate PRS by sample\n",
        "aggregate_prs <- function(data) {\n",
        "  aggregate(data$PRS, by = list(Sample = data$Sample), FUN = sum)\n",
        "}\n",
        "\n",
        "cases_prs_summary <- aggregate_prs(cases_with_prs)\n",
        "controls_prs_summary <- aggregate_prs(controls_with_prs)\n",
        "\n",
        "# Write aggregated PRS to CSV\n",
        "write.csv(cases_prs_summary, \"cases_prs_summary.csv\", row.names = FALSE)\n",
        "write.csv(controls_prs_summary, \"controls_prs_summary.csv\", row.names = FALSE)\n",
        "\n",
        "# Calculate mean and standard deviation for cases and controls\n",
        "summary_statistics <- function(prs_data) {\n",
        "  mean_prs <- mean(prs_data$x)\n",
        "  sd_prs <- sd(prs_data$x)\n",
        "  return(list(mean = mean_prs, sd = sd_prs))\n",
        "}\n",
        "\n",
        "cases_stats <- summary_statistics(cases_prs_summary)\n",
        "controls_stats <- summary_statistics(controls_prs_summary)\n",
        "\n",
        "# Print summary statistics\n",
        "cat(\"Cases PRS Mean and SD:\", cases_stats$mean, cases_stats$sd, \"\\n\")\n",
        "cat(\"Controls PRS Mean and SD:\", controls_stats$mean, controls_stats$sd, \"\\n\")\n",
        "\n",
        "# Prepare summary statistics for output\n",
        "summary_stats_df <- data.frame(\n",
        "  Group = c(\"Cases\", \"Controls\"),\n",
        "  Mean_PRS = c(cases_stats$mean, controls_stats$mean),\n",
        "  SD_PRS = c(cases_stats$sd, controls_stats$sd)\n",
        ")\n",
        "\n",
        "# Write summary statistics to CSV\n",
        "write.csv(summary_stats_df, \"summary_statistics_prs.csv\", row.names = FALSE)\n"
      ]
    }
  ]
}