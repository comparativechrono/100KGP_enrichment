{
  "nbformat": 4,
  "nbformat_minor": 0,
  "metadata": {
    "colab": {
      "provenance": [],
      "authorship_tag": "ABX9TyPOSE0qLoJYUrTKUXWvSPYJ",
      "include_colab_link": true
    },
    "kernelspec": {
      "name": "ir",
      "display_name": "R"
    },
    "language_info": {
      "name": "R"
    }
  },
  "cells": [
    {
      "cell_type": "markdown",
      "metadata": {
        "id": "view-in-github",
        "colab_type": "text"
      },
      "source": [
        "<a href=\"https://colab.research.google.com/github/comparativechrono/100KGP_enrichment/blob/main/PRS/case_control_PRS_tidy_R.ipynb\" target=\"_parent\"><img src=\"https://colab.research.google.com/assets/colab-badge.svg\" alt=\"Open In Colab\"/></a>"
      ]
    },
    {
      "cell_type": "code",
      "execution_count": 5,
      "metadata": {
        "colab": {
          "base_uri": "https://localhost:8080/"
        },
        "id": "k4B58fz12m27",
        "outputId": "6273937e-40db-4f0b-cdc0-80b0cf3bec16"
      },
      "outputs": [
        {
          "output_type": "stream",
          "name": "stdout",
          "text": [
            "[1] \"Cases PRS Mean and SD:\"\n",
            "$mean\n",
            "[1] 2.9\n",
            "\n",
            "$sd\n",
            "[1] 1.473092\n",
            "\n",
            "[1] \"Controls PRS Mean and SD:\"\n",
            "$mean\n",
            "[1] 1.52\n",
            "\n",
            "$sd\n",
            "[1] 0.6058052\n",
            "\n"
          ]
        }
      ],
      "source": [
        "# Load the Weights File\n",
        "\n",
        "variant_weights <- read.table(\"variant_weights.txt\", header = FALSE, stringsAsFactors = FALSE)\n",
        "names(variant_weights) <- c(\"ID\", \"Weight\")\n",
        "\n",
        "#Calculate Individual PRS\n",
        "\n",
        "parse_vcf_info_with_prs <- function(file_path, weights) {\n",
        "  vcf_data <- read.table(file_path, header = FALSE, stringsAsFactors = FALSE)\n",
        "  names(vcf_data) <- c(\"Sample\", \"Chrom\", \"Pos\", \"ID\", \"Ref\", \"Alt\", \"Qual\", \"Filter\", \"GT\", \"GQ\", \"DP\")\n",
        "\n",
        "  # Split GT field to count alleles\n",
        "  vcf_data$AlleleCount <- sapply(strsplit(vcf_data$GT, \"/\"), function(gt) sum(as.numeric(gt)))\n",
        "\n",
        "  # Join with weights to calculate PRS\n",
        "  vcf_data <- merge(vcf_data, weights, by = \"ID\")\n",
        "  vcf_data$PRS <- vcf_data$AlleleCount * vcf_data$Weight\n",
        "\n",
        "  return(vcf_data)\n",
        "}\n",
        "\n",
        "# Calculate PRS for cases and controls\n",
        "cases_with_prs <- parse_vcf_info_with_prs(\"cases.txt\", variant_weights)\n",
        "controls_with_prs <- parse_vcf_info_with_prs(\"control.txt\", variant_weights)\n",
        "\n",
        "# Aggregate PRS and Calculate Mean and Standard Deviation\n",
        "\n",
        "# Aggregate PRS by sample\n",
        "aggregate_prs <- function(data) {\n",
        "  aggregate(PRS ~ Sample, data, sum)\n",
        "}\n",
        "\n",
        "cases_prs_summary <- aggregate_prs(cases_with_prs)\n",
        "controls_prs_summary <- aggregate_prs(controls_with_prs)\n",
        "\n",
        "# Write aggregated PRS to CSV\n",
        "write.csv(cases_prs_summary, \"cases_prs_summary.csv\", row.names = FALSE)\n",
        "write.csv(controls_prs_summary, \"controls_prs_summary.csv\", row.names = FALSE)\n",
        "\n",
        "\n",
        "# Calculate mean and standard deviation for cases and controls\n",
        "summary_statistics <- function(prs_data) {\n",
        "  list(mean = mean(prs_data$PRS), sd = sd(prs_data$PRS))\n",
        "}\n",
        "\n",
        "cases_stats <- summary_statistics(cases_prs_summary)\n",
        "controls_stats <- summary_statistics(controls_prs_summary)\n",
        "\n",
        "# Print summary statistics\n",
        "print(\"Cases PRS Mean and SD:\")\n",
        "print(cases_stats)\n",
        "\n",
        "print(\"Controls PRS Mean and SD:\")\n",
        "print(controls_stats)\n",
        "\n",
        "# Prepare summary statistics for output\n",
        "summary_stats_df <- data.frame(\n",
        "  Group = c(\"Cases\", \"Controls\"),\n",
        "  Mean_PRS = c(cases_stats$mean, controls_stats$mean),\n",
        "  SD_PRS = c(cases_stats$sd, controls_stats$sd)\n",
        ")\n",
        "\n",
        "# Write summary statistics to CSV\n",
        "write.csv(summary_stats_df, \"summary_statistics_prs.csv\", row.names = FALSE)\n"
      ]
    }
  ]
}