{
  "nbformat": 4,
  "nbformat_minor": 0,
  "metadata": {
    "colab": {
      "provenance": [],
      "authorship_tag": "ABX9TyOaIgZykawyEpI742jeGVVF",
      "include_colab_link": true
    },
    "kernelspec": {
      "name": "ir",
      "display_name": "R"
    },
    "language_info": {
      "name": "R"
    }
  },
  "cells": [
    {
      "cell_type": "markdown",
      "metadata": {
        "id": "view-in-github",
        "colab_type": "text"
      },
      "source": [
        "<a href=\"https://colab.research.google.com/github/comparativechrono/100KGP_enrichment/blob/main/case_control_enrichment_with_baseR.ipynb\" target=\"_parent\"><img src=\"https://colab.research.google.com/assets/colab-badge.svg\" alt=\"Open In Colab\"/></a>"
      ]
    },
    {
      "cell_type": "code",
      "execution_count": 1,
      "metadata": {
        "id": "yYTefWFHpvJR"
      },
      "outputs": [],
      "source": [
        "# Using wide data format is a tidy R approach, however, if you are working on a clinical computing system without tidyverse, here is a base R implementation of the approach.\n",
        "# Parse the Files\n",
        "\n",
        "parse_vcf_info <- function(file_path) {\n",
        "  vcf_data <- read.table(file_path, header = FALSE, stringsAsFactors = FALSE)\n",
        "  colnames(vcf_data) <- c(\"Sample\", \"Chrom\", \"Pos\", \"ID\", \"Ref\", \"Alt\", \"Qual\", \"Filter\", \"GT\", \"GQ\", \"DP\")\n",
        "\n",
        "  # Split GT field to count alleles\n",
        "  vcf_data$AlleleCount <- sapply(strsplit(vcf_data$GT, \"/\"), function(gt) sum(as.numeric(gt)))\n",
        "\n",
        "  return(vcf_data)\n",
        "}\n",
        "\n",
        "cases <- parse_vcf_info(\"cases.txt\")\n",
        "controls <- parse_vcf_info(\"control.txt\")\n",
        "\n",
        "# Calculate Allele Frequencies\n",
        "\n",
        "aggregate_allele_freq <- function(data) {\n",
        "  aggregate(AlleleCount ~ ID, data = data, sum)\n",
        "}\n",
        "\n",
        "cases_freq <- aggregate_allele_freq(cases)\n",
        "controls_freq <- aggregate_allele_freq(controls)\n",
        "\n",
        "# Generate Matrices for Fisher's Test\n",
        "\n",
        "combined_freq <- merge(cases_freq, controls_freq, by = \"ID\", suffixes = c(\"_cases\", \"_controls\"))\n",
        "\n",
        "# Assuming total number of alleles analyzed (for scaling to total cases/controls)\n",
        "total_cases_alleles <- 80 * 2\n",
        "total_controls_alleles <- 230 * 2\n",
        "\n",
        "# Initialize the matrix list\n",
        "combined_freq$matrix <- vector(\"list\", nrow(combined_freq))\n",
        "\n",
        "for (i in 1:nrow(combined_freq)) {\n",
        "  combined_freq$matrix[[i]] <- matrix(c(\n",
        "    combined_freq$AlleleCount_cases[i], total_cases_alleles - combined_freq$AlleleCount_cases[i],\n",
        "    combined_freq$AlleleCount_controls[i], total_controls_alleles - combined_freq$AlleleCount_controls[i]),\n",
        "    nrow = 2)\n",
        "}\n",
        "\n",
        "# Perform fishers exact test\n",
        "\n",
        "combined_freq$fisher <- lapply(combined_freq$matrix, fisher.test)\n",
        "\n",
        "# Extract Results and Write to CSV\n",
        "\n",
        "results <- data.frame(\n",
        "  ID = combined_freq$ID,\n",
        "  p.value = sapply(combined_freq$fisher, function(x) x$p.value),\n",
        "  odds_ratio = sapply(combined_freq$fisher, function(x) ifelse(is.null(x$estimate), NA, x$estimate[\"odds ratio\"]))\n",
        ")\n",
        "\n",
        "write.csv(results, \"3A_fishers_results.csv\", row.names = FALSE)\n",
        "\n"
      ]
    }
  ]
}